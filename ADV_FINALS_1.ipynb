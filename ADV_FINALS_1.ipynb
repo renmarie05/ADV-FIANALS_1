{
  "nbformat": 4,
  "nbformat_minor": 0,
  "metadata": {
    "colab": {
      "provenance": [],
      "authorship_tag": "ABX9TyO64ss4OK9wqeFtAUN9HGt+",
      "include_colab_link": true
    },
    "kernelspec": {
      "name": "python3",
      "display_name": "Python 3"
    },
    "language_info": {
      "name": "python"
    }
  },
  "cells": [
    {
      "cell_type": "markdown",
      "metadata": {
        "id": "view-in-github",
        "colab_type": "text"
      },
      "source": [
        "<a href=\"https://colab.research.google.com/github/renmarie05/ADV-FIANALS_1/blob/main/ADV_FINALS_1.ipynb\" target=\"_parent\"><img src=\"https://colab.research.google.com/assets/colab-badge.svg\" alt=\"Open In Colab\"/></a>"
      ]
    },
    {
      "cell_type": "code",
      "execution_count": 4,
      "metadata": {
        "colab": {
          "base_uri": "https://localhost:8080/"
        },
        "id": "DoM7W1vIGTjP",
        "outputId": "b9267702-ee67-4c18-a14d-76de741e7a8f"
      },
      "outputs": [
        {
          "output_type": "stream",
          "name": "stdout",
          "text": [
            "R\n",
            "E\n",
            "N\n",
            "-\n",
            "R\n",
            "E\n",
            "N\n"
          ]
        }
      ],
      "source": [
        "myName = \"REN-REN\" \n",
        "for x in myName: \n",
        "  print(x)"
      ]
    },
    {
      "cell_type": "code",
      "source": [
        "for x in range(6):\n",
        " print(x)\n",
        "else:\n",
        " print(\"Finally finished!\")"
      ],
      "metadata": {
        "colab": {
          "base_uri": "https://localhost:8080/"
        },
        "id": "MY-Ld4s8Gr-G",
        "outputId": "c58b7d29-b142-48a5-9f19-b9164b93fdeb"
      },
      "execution_count": 5,
      "outputs": [
        {
          "output_type": "stream",
          "name": "stdout",
          "text": [
            "0\n",
            "1\n",
            "2\n",
            "3\n",
            "4\n",
            "5\n",
            "Finally finished!\n"
          ]
        }
      ]
    },
    {
      "cell_type": "code",
      "source": [
        "thislist = [\"Top\", \"bottom\", \"victory\"]\n",
        "for x in thislist:\n",
        " print(x)"
      ],
      "metadata": {
        "colab": {
          "base_uri": "https://localhost:8080/"
        },
        "id": "dGPKsvnQHBCx",
        "outputId": "11526542-e703-49cc-ea65-7e99cd2c25d2"
      },
      "execution_count": 7,
      "outputs": [
        {
          "output_type": "stream",
          "name": "stdout",
          "text": [
            "Top\n",
            "bottom\n",
            "victory\n"
          ]
        }
      ]
    },
    {
      "cell_type": "code",
      "source": [
        "list(range(0,10))\n",
        "[0, 1, 2, 3, 4, 5, 6, 7, 8, 9]"
      ],
      "metadata": {
        "colab": {
          "base_uri": "https://localhost:8080/"
        },
        "id": "zPhmMStXHPVY",
        "outputId": "52b36a81-6a6a-44d1-99ff-6bcdceabc322"
      },
      "execution_count": 8,
      "outputs": [
        {
          "output_type": "execute_result",
          "data": {
            "text/plain": [
              "[0, 1, 2, 3, 4, 5, 6, 7, 8, 9]"
            ]
          },
          "metadata": {},
          "execution_count": 8
        }
      ]
    },
    {
      "cell_type": "code",
      "source": [
        "dataAnalyticsTools = ['Python', 'R', 'SQL', 'Git'] \n",
        "for i in range(len(dataAnalyticsTools)): \n",
        " print(dataAnalyticsTools [ i ])\n"
      ],
      "metadata": {
        "colab": {
          "base_uri": "https://localhost:8080/"
        },
        "id": "hE11xcUuHePL",
        "outputId": "ae7d8910-c07d-407d-fe9d-aa09064facfb"
      },
      "execution_count": 10,
      "outputs": [
        {
          "output_type": "stream",
          "name": "stdout",
          "text": [
            "Python\n",
            "R\n",
            "SQL\n",
            "Git\n"
          ]
        }
      ]
    }
  ]
}